{
 "cells": [
  {
   "cell_type": "code",
   "execution_count": 1,
   "id": "4dcff5e3",
   "metadata": {},
   "outputs": [],
   "source": [
    "import numpy as np\n",
    "import pickle\n",
    "from os import listdir\n",
    "import cv2\n",
    "\n",
    "from sklearn.preprocessing import LabelBinarizer\n",
    "from sklearn.model_selection import train_test_split\n",
    "\n",
    "from sklearn.utils import class_weight\n",
    "\n",
    "from tensorflow.keras.preprocessing.image import ImageDataGenerator\n",
    "from tensorflow.keras.preprocessing import image\n",
    "from tensorflow.keras.preprocessing.image import img_to_array\n",
    "\n",
    "from tensorflow.keras.models import Sequential\n",
    "from tensorflow.keras.layers import Conv2D, MaxPooling2D\n",
    "from tensorflow.keras.layers import Dense, Dropout, Flatten\n",
    "\n",
    "from tensorflow.keras import backend as K\n",
    "from tensorflow.keras.optimizers import Adam\n",
    "from tensorflow.keras.callbacks import EarlyStopping\n",
    "\n",
    "import matplotlib.pyplot as plt\n",
    "\n",
    "from sklearn.metrics import confusion_matrix\n",
    "import seaborn as sns\n",
    "from tqdm import tqdm\n",
    "import tensorflow as tf\n",
    "import os \n",
    "from random import shuffle"
   ]
  },
  {
   "cell_type": "markdown",
   "id": "1a319ea2",
   "metadata": {},
   "source": [
    "# Loading the Data"
   ]
  },
  {
   "cell_type": "code",
   "execution_count": 2,
   "id": "783709ce",
   "metadata": {},
   "outputs": [],
   "source": [
    "import numpy as np\n",
    "import pandas as pd  \n",
    "import os \n",
    "from sklearn.datasets import load_files"
   ]
  },
  {
   "cell_type": "code",
   "execution_count": 3,
   "id": "2fdadc44",
   "metadata": {},
   "outputs": [],
   "source": [
    "data_dir =  r'C:\\Users\\Wave\\Desktop\\Test_vgg16\\img\\train'\n",
    " \n",
    "data = load_files(data_dir)"
   ]
  },
  {
   "cell_type": "markdown",
   "id": "650358e4",
   "metadata": {},
   "source": [
    "# Data Preprocessing and exploring"
   ]
  },
  {
   "cell_type": "code",
   "execution_count": 4,
   "id": "8727f399",
   "metadata": {},
   "outputs": [
    {
     "name": "stdout",
     "output_type": "stream",
     "text": [
      "['chaplu', 'fahthalinejol', 'horapa', 'krapao', 'lemon', 'magrud', 'plu', 'sabtiger', 'saranae', 'yanang']\n"
     ]
    }
   ],
   "source": [
    "folders=os.listdir(r'C:\\Users\\Wave\\Desktop\\Test_vgg16\\img\\train')\n",
    "print(folders)"
   ]
  },
  {
   "cell_type": "code",
   "execution_count": 5,
   "id": "182a9c1f",
   "metadata": {},
   "outputs": [
    {
     "name": "stdout",
     "output_type": "stream",
     "text": [
      "Data files -  ['C:\\\\Users\\\\Wave\\\\Desktop\\\\Test_vgg16\\\\img\\\\train\\\\fahthalinejol\\\\aug_0_1298.jpg'\n",
      " 'C:\\\\Users\\\\Wave\\\\Desktop\\\\Test_vgg16\\\\img\\\\train\\\\sabtiger\\\\aug_0_8336.jpg'\n",
      " 'C:\\\\Users\\\\Wave\\\\Desktop\\\\Test_vgg16\\\\img\\\\train\\\\fahthalinejol\\\\aug_0_5026.jpg'\n",
      " ...\n",
      " 'C:\\\\Users\\\\Wave\\\\Desktop\\\\Test_vgg16\\\\img\\\\train\\\\krapao\\\\aug_0_1918.jpg'\n",
      " 'C:\\\\Users\\\\Wave\\\\Desktop\\\\Test_vgg16\\\\img\\\\train\\\\yanang\\\\aug_0_372.jpg'\n",
      " 'C:\\\\Users\\\\Wave\\\\Desktop\\\\Test_vgg16\\\\img\\\\train\\\\horapa\\\\aug_0_6768.jpg']\n",
      "Target labels -  [1 7 1 ... 3 9 2]\n"
     ]
    }
   ],
   "source": [
    "X = np.array(data['filenames'])\n",
    "y = np.array(data['target'])\n",
    "labels = np.array(data['target_names'])\n",
    " \n",
    "print('Data files - ',X)\n",
    "print('Target labels - ',y)"
   ]
  },
  {
   "cell_type": "markdown",
   "id": "53c2aad1",
   "metadata": {},
   "source": [
    "# Load the images"
   ]
  },
  {
   "cell_type": "code",
   "execution_count": 6,
   "id": "7184ac7a",
   "metadata": {},
   "outputs": [
    {
     "name": "stdout",
     "output_type": "stream",
     "text": [
      "(10565, 128, 128, 3)\n",
      "First training item :  [[[105. 164.  44.]\n",
      "  [ 73. 134.  15.]\n",
      "  [ 78. 141.  27.]\n",
      "  ...\n",
      "  [ 94.  89.  70.]\n",
      "  [ 99.  94.  65.]\n",
      "  [ 99.  95.  60.]]\n",
      "\n",
      " [[105. 163.  51.]\n",
      "  [ 81. 139.  29.]\n",
      "  [ 78. 140.  33.]\n",
      "  ...\n",
      "  [131. 120. 102.]\n",
      "  [135. 125.  98.]\n",
      "  [136. 127.  96.]]\n",
      "\n",
      " [[119. 174.  73.]\n",
      "  [ 73. 129.  30.]\n",
      "  [ 80. 138.  38.]\n",
      "  ...\n",
      "  [133. 117. 101.]\n",
      "  [132. 117.  96.]\n",
      "  [129. 114.  91.]]\n",
      "\n",
      " ...\n",
      "\n",
      " [[ 85.  96. 114.]\n",
      "  [ 84.  96. 112.]\n",
      "  [ 86.  95. 110.]\n",
      "  ...\n",
      "  [200. 207. 111.]\n",
      "  [215. 209. 113.]\n",
      "  [230. 216. 117.]]\n",
      "\n",
      " [[111. 118. 136.]\n",
      "  [114. 121. 139.]\n",
      "  [113. 119. 135.]\n",
      "  ...\n",
      "  [199. 205. 109.]\n",
      "  [219. 210. 115.]\n",
      "  [231. 217. 118.]]\n",
      "\n",
      " [[ 95. 100. 119.]\n",
      "  [101. 107. 123.]\n",
      "  [ 93.  96. 113.]\n",
      "  ...\n",
      "  [196. 201. 107.]\n",
      "  [217. 209. 111.]\n",
      "  [227. 213. 114.]]]\n"
     ]
    }
   ],
   "source": [
    "from keras.preprocessing.image import img_to_array, load_img\n",
    "\n",
    "def convert_img_to_arr(file_path_list):\n",
    "    arr = []\n",
    "    #size=64,64\n",
    "    img_width, img_height = 128,128\n",
    "    for file_path in file_path_list:\n",
    "        img = load_img(file_path, target_size = (img_width, img_height))\n",
    "        img = img_to_array(img)\n",
    "        arr.append(img)\n",
    "        \n",
    "    return arr\n",
    " \n",
    "X = np.array(convert_img_to_arr(X))\n",
    "print(X.shape) \n",
    "print('First training item : ',X[0])"
   ]
  },
  {
   "cell_type": "code",
   "execution_count": null,
   "id": "f16363ee",
   "metadata": {},
   "outputs": [],
   "source": [
    "import matplotlib.pyplot as plt\n",
    " \n",
    "fig = plt.figure(figsize = (16,9))\n",
    "for i in range(10):\n",
    "    ax = fig.add_subplot(1,10,i+1,xticks=[],yticks=[])\n",
    "    ax.imshow((X[i].astype(np.uint8)))\n",
    "    plt.title(folders[y[i]])"
   ]
  },
  {
   "cell_type": "code",
   "execution_count": null,
   "id": "69c8ba12",
   "metadata": {},
   "outputs": [],
   "source": [
    "X = X.astype('float32')/255\n",
    "no_of_classes = len(np.unique(y))\n",
    "no_of_classes"
   ]
  },
  {
   "cell_type": "markdown",
   "id": "ccf1ba22",
   "metadata": {},
   "source": [
    "# converts a class vector (integers) to binary class matrix"
   ]
  },
  {
   "cell_type": "code",
   "execution_count": null,
   "id": "2b24226b",
   "metadata": {},
   "outputs": [],
   "source": [
    "from keras.utils import np_utils\n",
    "y = np.array(np_utils.to_categorical(y,no_of_classes))\n",
    "y[0]"
   ]
  },
  {
   "cell_type": "markdown",
   "id": "52470bfe",
   "metadata": {},
   "source": [
    "# Train Test Split  InceptionV3"
   ]
  },
  {
   "cell_type": "code",
   "execution_count": null,
   "id": "7a1c2707",
   "metadata": {},
   "outputs": [],
   "source": [
    " #80% train, 10% validation, and 10% test.\n",
    "from sklearn.model_selection import train_test_split\n",
    "X_train1, X_test1, y_train1, y_test1 = train_test_split(X,y,test_size=0.3,train_size=0.7,shuffle=True)"
   ]
  },
  {
   "cell_type": "code",
   "execution_count": null,
   "id": "414b2904",
   "metadata": {},
   "outputs": [],
   "source": [
    "print('The train Data Shape ', X_train1.shape[1:])"
   ]
  },
  {
   "cell_type": "markdown",
   "id": "febad5d8",
   "metadata": {},
   "source": [
    "# Model InceptionV3"
   ]
  },
  {
   "cell_type": "code",
   "execution_count": null,
   "id": "eba6891d",
   "metadata": {},
   "outputs": [],
   "source": [
    "InceptionV3_model =tf.keras.applications.InceptionV3(weights='imagenet', include_top=False,input_shape=(128,128,3))"
   ]
  },
  {
   "cell_type": "code",
   "execution_count": null,
   "id": "b1a28ca3",
   "metadata": {},
   "outputs": [],
   "source": [
    "InceptionV3_model.summary()"
   ]
  },
  {
   "cell_type": "code",
   "execution_count": null,
   "id": "962ec076",
   "metadata": {},
   "outputs": [],
   "source": [
    "InceptionV3_model.trainable = False"
   ]
  },
  {
   "cell_type": "markdown",
   "id": "550e1812",
   "metadata": {},
   "source": [
    "# Add head InceptionV3"
   ]
  },
  {
   "cell_type": "code",
   "execution_count": null,
   "id": "c02bf249",
   "metadata": {},
   "outputs": [],
   "source": [
    "average_pooling_layer1 = tf.keras.layers.GlobalAveragePooling2D()(InceptionV3_model.output)\n",
    "prediction_layer1 = tf.keras.layers.Dense(units=10,activation='softmax')(average_pooling_layer1)"
   ]
  },
  {
   "cell_type": "code",
   "execution_count": null,
   "id": "1756df62",
   "metadata": {},
   "outputs": [],
   "source": [
    "InceptionV3 = tf.keras.models.Model(inputs=InceptionV3_model.input, outputs=prediction_layer1)"
   ]
  },
  {
   "cell_type": "code",
   "execution_count": null,
   "id": "b1b2a17c",
   "metadata": {},
   "outputs": [],
   "source": [
    "InceptionV3.summary()"
   ]
  },
  {
   "cell_type": "markdown",
   "id": "ee398f0b",
   "metadata": {},
   "source": [
    "# train model InceptionV3"
   ]
  },
  {
   "cell_type": "code",
   "execution_count": null,
   "id": "b63a14a6",
   "metadata": {},
   "outputs": [],
   "source": [
    "InceptionV3.compile(optimizer=tf.keras.optimizers.RMSprop(lr=0.0001), loss=\"categorical_crossentropy\",metrics=[\"accuracy\"])"
   ]
  },
  {
   "cell_type": "code",
   "execution_count": null,
   "id": "cf328feb",
   "metadata": {},
   "outputs": [],
   "source": [
    "history_InceptionV3 = model.fit(X_train1,y_train1,epochs=10,validation_data=(X_test1,y_test1),batch_size=128)"
   ]
  },
  {
   "cell_type": "code",
   "execution_count": null,
   "id": "640ff50d",
   "metadata": {},
   "outputs": [],
   "source": [
    "(eval_loss1, eval_accuracy1) = InceptionV3.evaluate(X_test1, y_test1, batch_size= 128, verbose=2)\n",
    "print(\"Accuracy: {:.2f}%\".format(eval_accuracy1 * 100))  \n",
    "print(\"Loss: {}\".format(eval_loss1))"
   ]
  },
  {
   "cell_type": "markdown",
   "id": "080ca4c6",
   "metadata": {},
   "source": [
    "# Train Test Split ResNet50V2"
   ]
  },
  {
   "cell_type": "code",
   "execution_count": null,
   "id": "8e6fc2d9",
   "metadata": {},
   "outputs": [],
   "source": [
    " #80% train, 10% validation, and 10% test.\n",
    "from sklearn.model_selection import train_test_split\n",
    "X_train2, X_test2, y_train2, y_test2 = train_test_split(X,y,test_size=0.3,train_size=0.7,shuffle=True)"
   ]
  },
  {
   "cell_type": "code",
   "execution_count": null,
   "id": "ddc94459",
   "metadata": {},
   "outputs": [],
   "source": [
    "print('The train Data Shape ', X_train2.shape[1:])"
   ]
  },
  {
   "cell_type": "markdown",
   "id": "17c430e8",
   "metadata": {},
   "source": [
    "# Model ResNet50V2"
   ]
  },
  {
   "cell_type": "code",
   "execution_count": null,
   "id": "1201650d",
   "metadata": {},
   "outputs": [],
   "source": [
    "ResNet50V2_model =tf.keras.applications.ResNet50V2(weights='imagenet', include_top=False,input_shape=(128,128,3))"
   ]
  },
  {
   "cell_type": "code",
   "execution_count": null,
   "id": "93a9460c",
   "metadata": {},
   "outputs": [],
   "source": [
    "ResNet50V2_model.summary()"
   ]
  },
  {
   "cell_type": "code",
   "execution_count": null,
   "id": "88b9f6a1",
   "metadata": {},
   "outputs": [],
   "source": [
    "ResNet50V2_model.trainable = False"
   ]
  },
  {
   "cell_type": "markdown",
   "id": "089ec922",
   "metadata": {},
   "source": [
    "# Add head IResNet50V2"
   ]
  },
  {
   "cell_type": "code",
   "execution_count": null,
   "id": "7188b6e3",
   "metadata": {},
   "outputs": [],
   "source": [
    "average_pooling_layer2 = tf.keras.layers.GlobalAveragePooling2D()(ResNet50V2_model.output)\n",
    "prediction_layer2 = tf.keras.layers.Dense(units=10,activation='softmax')(average_pooling_layer2)"
   ]
  },
  {
   "cell_type": "code",
   "execution_count": null,
   "id": "7e70af09",
   "metadata": {},
   "outputs": [],
   "source": [
    "ResNet50V2 = tf.keras.models.Model(inputs=ResNet50V2_model.input, outputs=prediction_layer2)"
   ]
  },
  {
   "cell_type": "code",
   "execution_count": null,
   "id": "650732d7",
   "metadata": {},
   "outputs": [],
   "source": [
    "ResNet50V2.summary()"
   ]
  },
  {
   "cell_type": "markdown",
   "id": "72111ccd",
   "metadata": {},
   "source": [
    "# train model ResNet50V2"
   ]
  },
  {
   "cell_type": "code",
   "execution_count": null,
   "id": "b81bf2a1",
   "metadata": {},
   "outputs": [],
   "source": [
    "ResNet50V2.compile(optimizer=tf.keras.optimizers.RMSprop(lr=0.0001), loss=\"categorical_crossentropy\",metrics=[\"accuracy\"])"
   ]
  },
  {
   "cell_type": "code",
   "execution_count": null,
   "id": "59a9608e",
   "metadata": {},
   "outputs": [],
   "source": [
    "history_ResNet50V2 = model.fit(X_train2,y_train2,epochs=10,validation_data=(X_test2,y_test2),batch_size=128)"
   ]
  },
  {
   "cell_type": "code",
   "execution_count": null,
   "id": "13011175",
   "metadata": {},
   "outputs": [],
   "source": [
    "(eval_loss2, eval_accuracy2) = ResNet50V2.evaluate(X_test2, y_test2, batch_size= 128, verbose=2)\n",
    "print(\"Accuracy: {:.2f}%\".format(eval_accuracy2 * 100))  \n",
    "print(\"Loss: {}\".format(eval_loss2))"
   ]
  },
  {
   "cell_type": "markdown",
   "id": "6625840e",
   "metadata": {},
   "source": [
    "# Train Test Split MobileNetV2"
   ]
  },
  {
   "cell_type": "code",
   "execution_count": null,
   "id": "2c66dc43",
   "metadata": {},
   "outputs": [],
   "source": [
    " #80% train, 10% validation, and 10% test.\n",
    "from sklearn.model_selection import train_test_split\n",
    "X_train3, X_test3, y_train3, y_test3 = train_test_split(X,y,test_size=0.3,train_size=0.7,shuffle=True)"
   ]
  },
  {
   "cell_type": "code",
   "execution_count": null,
   "id": "ef5617ce",
   "metadata": {},
   "outputs": [],
   "source": [
    "print('The train Data Shape ', X_train3.shape[1:])"
   ]
  },
  {
   "cell_type": "markdown",
   "id": "c75684a1",
   "metadata": {},
   "source": [
    "# Model"
   ]
  },
  {
   "cell_type": "code",
   "execution_count": null,
   "id": "1ec27fa9",
   "metadata": {},
   "outputs": [],
   "source": [
    "MobileNetV2_model =tf.keras.applications.MobileNetV2(weights='imagenet', include_top=False,input_shape=(128,128,3))"
   ]
  },
  {
   "cell_type": "code",
   "execution_count": null,
   "id": "69cbc8c1",
   "metadata": {},
   "outputs": [],
   "source": [
    "MobileNetV2_model.summary()"
   ]
  },
  {
   "cell_type": "code",
   "execution_count": null,
   "id": "8b2873ae",
   "metadata": {},
   "outputs": [],
   "source": [
    "MobileNetV2_model.trainable = False"
   ]
  },
  {
   "cell_type": "markdown",
   "id": "e408f2b8",
   "metadata": {},
   "source": [
    "# Add head MobileNetV2"
   ]
  },
  {
   "cell_type": "code",
   "execution_count": null,
   "id": "829adb42",
   "metadata": {},
   "outputs": [],
   "source": [
    "average_pooling_layer3 = tf.keras.layers.GlobalAveragePooling2D()(MobileNetV2_model.output)\n",
    "prediction_layer3 = tf.keras.layers.Dense(units=10,activation='softmax')(average_pooling_layer3)"
   ]
  },
  {
   "cell_type": "code",
   "execution_count": null,
   "id": "adc0ca37",
   "metadata": {},
   "outputs": [],
   "source": [
    "MobileNetV2 = tf.keras.models.Model(inputs=MobileNetV2_model.input, outputs=prediction_layer3)"
   ]
  },
  {
   "cell_type": "code",
   "execution_count": null,
   "id": "75232b15",
   "metadata": {},
   "outputs": [],
   "source": [
    "MobileNetV2.summary()"
   ]
  },
  {
   "cell_type": "markdown",
   "id": "46728630",
   "metadata": {},
   "source": [
    "# train model MobileNetV2"
   ]
  },
  {
   "cell_type": "code",
   "execution_count": null,
   "id": "e32a813a",
   "metadata": {},
   "outputs": [],
   "source": [
    "MobileNetV2.compile(optimizer=tf.keras.optimizers.RMSprop(lr=0.0001), loss=\"categorical_crossentropy\",metrics=[\"accuracy\"])"
   ]
  },
  {
   "cell_type": "code",
   "execution_count": null,
   "id": "29813249",
   "metadata": {},
   "outputs": [],
   "source": [
    "history_MobileNetV2 = model.fit(X_train3,y_train3,epochs=10,validation_data=(X_test3,y_test3),batch_size=128)"
   ]
  },
  {
   "cell_type": "code",
   "execution_count": null,
   "id": "4aa1a3a6",
   "metadata": {},
   "outputs": [],
   "source": [
    "(eval_loss3, eval_accuracy3) = MobileNetV2.evaluate(X_test3, y_test3, batch_size= 128, verbose=2)\n",
    "print(\"Accuracy: {:.2f}%\".format(eval_accuracy3 * 100))  \n",
    "print(\"Loss: {}\".format(eval_loss3))"
   ]
  }
 ],
 "metadata": {
  "kernelspec": {
   "display_name": "Python 3 (ipykernel)",
   "language": "python",
   "name": "python3"
  },
  "language_info": {
   "codemirror_mode": {
    "name": "ipython",
    "version": 3
   },
   "file_extension": ".py",
   "mimetype": "text/x-python",
   "name": "python",
   "nbconvert_exporter": "python",
   "pygments_lexer": "ipython3",
   "version": "3.9.7"
  }
 },
 "nbformat": 4,
 "nbformat_minor": 5
}
