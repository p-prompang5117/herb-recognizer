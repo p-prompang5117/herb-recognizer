{
 "cells": [
  {
   "cell_type": "code",
   "execution_count": 1,
   "id": "c3733519",
   "metadata": {},
   "outputs": [],
   "source": [
    "import numpy as np\n",
    "import pickle\n",
    "from os import listdir\n",
    "import cv2\n",
    "\n",
    "from sklearn.preprocessing import LabelBinarizer\n",
    "from sklearn.model_selection import train_test_split\n",
    "\n",
    "from sklearn.utils import class_weight\n",
    "\n",
    "from tensorflow.keras.preprocessing.image import ImageDataGenerator\n",
    "from tensorflow.keras.preprocessing import image\n",
    "from tensorflow.keras.preprocessing.image import img_to_array\n",
    "\n",
    "from tensorflow.keras.models import Sequential\n",
    "from tensorflow.keras.layers import Conv2D, MaxPooling2D\n",
    "from tensorflow.keras.layers import Dense, Dropout, Flatten\n",
    "\n",
    "from tensorflow.keras import backend as K\n",
    "from tensorflow.keras.optimizers import Adam\n",
    "from tensorflow.keras.optimizers import SGD\n",
    "from tensorflow.keras.callbacks import EarlyStopping\n",
    "\n",
    "import matplotlib.pyplot as plt\n",
    "\n",
    "from sklearn.metrics import confusion_matrix\n",
    "import seaborn as sns\n",
    "from tqdm import tqdm\n",
    "import tensorflow as tf\n",
    "import os \n",
    "from random import shuffle"
   ]
  },
  {
   "cell_type": "markdown",
   "id": "c167f9f1",
   "metadata": {},
   "source": [
    "# Loading the Data"
   ]
  },
  {
   "cell_type": "code",
   "execution_count": 2,
   "id": "18a2d94f",
   "metadata": {},
   "outputs": [],
   "source": [
    "import numpy as np\n",
    "import pandas as pd  \n",
    "import os \n",
    "from sklearn.datasets import load_files"
   ]
  },
  {
   "cell_type": "code",
   "execution_count": 3,
   "id": "f58a4271",
   "metadata": {},
   "outputs": [],
   "source": [
    "data_dir =  r'C:\\Users\\Wave\\Desktop\\Test_vgg16\\img\\train'\n",
    " \n",
    "data = load_files(data_dir)"
   ]
  },
  {
   "cell_type": "markdown",
   "id": "bea4c51c",
   "metadata": {},
   "source": [
    "# Data Preprocessing and exploring"
   ]
  },
  {
   "cell_type": "code",
   "execution_count": 4,
   "id": "68a3f373",
   "metadata": {},
   "outputs": [
    {
     "name": "stdout",
     "output_type": "stream",
     "text": [
      "['chaplu', 'fahthalinejol', 'horapa', 'krapao', 'lemon', 'magrud', 'plu', 'sabtiger', 'saranae', 'yanang']\n"
     ]
    }
   ],
   "source": [
    "folders=os.listdir(r'C:\\Users\\Wave\\Desktop\\Test_vgg16\\img\\train')\n",
    "print(folders)"
   ]
  },
  {
   "cell_type": "code",
   "execution_count": 5,
   "id": "6129b75e",
   "metadata": {},
   "outputs": [
    {
     "name": "stdout",
     "output_type": "stream",
     "text": [
      "Data files -  ['C:\\\\Users\\\\Wave\\\\Desktop\\\\Test_vgg16\\\\img\\\\train\\\\fahthalinejol\\\\aug_0_1298.jpg'\n",
      " 'C:\\\\Users\\\\Wave\\\\Desktop\\\\Test_vgg16\\\\img\\\\train\\\\sabtiger\\\\aug_0_8336.jpg'\n",
      " 'C:\\\\Users\\\\Wave\\\\Desktop\\\\Test_vgg16\\\\img\\\\train\\\\fahthalinejol\\\\aug_0_5026.jpg'\n",
      " ...\n",
      " 'C:\\\\Users\\\\Wave\\\\Desktop\\\\Test_vgg16\\\\img\\\\train\\\\krapao\\\\aug_0_1918.jpg'\n",
      " 'C:\\\\Users\\\\Wave\\\\Desktop\\\\Test_vgg16\\\\img\\\\train\\\\yanang\\\\aug_0_372.jpg'\n",
      " 'C:\\\\Users\\\\Wave\\\\Desktop\\\\Test_vgg16\\\\img\\\\train\\\\horapa\\\\aug_0_6768.jpg']\n",
      "Target labels -  [1 7 1 ... 3 9 2]\n"
     ]
    }
   ],
   "source": [
    "X = np.array(data['filenames'])\n",
    "y = np.array(data['target'])\n",
    "labels = np.array(data['target_names'])\n",
    " \n",
    "print('Data files - ',X)\n",
    "print('Target labels - ',y)"
   ]
  },
  {
   "cell_type": "markdown",
   "id": "dca48d2f",
   "metadata": {},
   "source": [
    "# Load the images"
   ]
  },
  {
   "cell_type": "code",
   "execution_count": 6,
   "id": "f70d39e0",
   "metadata": {},
   "outputs": [
    {
     "name": "stdout",
     "output_type": "stream",
     "text": [
      "(10565, 128, 128, 3)\n",
      "First training item :  [[[105. 164.  44.]\n",
      "  [ 73. 134.  15.]\n",
      "  [ 78. 141.  27.]\n",
      "  ...\n",
      "  [ 94.  89.  70.]\n",
      "  [ 99.  94.  65.]\n",
      "  [ 99.  95.  60.]]\n",
      "\n",
      " [[105. 163.  51.]\n",
      "  [ 81. 139.  29.]\n",
      "  [ 78. 140.  33.]\n",
      "  ...\n",
      "  [131. 120. 102.]\n",
      "  [135. 125.  98.]\n",
      "  [136. 127.  96.]]\n",
      "\n",
      " [[119. 174.  73.]\n",
      "  [ 73. 129.  30.]\n",
      "  [ 80. 138.  38.]\n",
      "  ...\n",
      "  [133. 117. 101.]\n",
      "  [132. 117.  96.]\n",
      "  [129. 114.  91.]]\n",
      "\n",
      " ...\n",
      "\n",
      " [[ 85.  96. 114.]\n",
      "  [ 84.  96. 112.]\n",
      "  [ 86.  95. 110.]\n",
      "  ...\n",
      "  [200. 207. 111.]\n",
      "  [215. 209. 113.]\n",
      "  [230. 216. 117.]]\n",
      "\n",
      " [[111. 118. 136.]\n",
      "  [114. 121. 139.]\n",
      "  [113. 119. 135.]\n",
      "  ...\n",
      "  [199. 205. 109.]\n",
      "  [219. 210. 115.]\n",
      "  [231. 217. 118.]]\n",
      "\n",
      " [[ 95. 100. 119.]\n",
      "  [101. 107. 123.]\n",
      "  [ 93.  96. 113.]\n",
      "  ...\n",
      "  [196. 201. 107.]\n",
      "  [217. 209. 111.]\n",
      "  [227. 213. 114.]]]\n"
     ]
    }
   ],
   "source": [
    "from keras.preprocessing.image import img_to_array, load_img\n",
    "\n",
    "def convert_img_to_arr(file_path_list):\n",
    "    arr = []\n",
    "    #size=64,64\n",
    "    img_width, img_height = 128,128\n",
    "    for file_path in file_path_list:\n",
    "        img = load_img(file_path, target_size = (img_width, img_height))\n",
    "        img = img_to_array(img)\n",
    "        arr.append(img)\n",
    "        \n",
    "    return arr\n",
    " \n",
    "X = np.array(convert_img_to_arr(X))\n",
    "print(X.shape) \n",
    "print('First training item : ',X[0])"
   ]
  },
  {
   "cell_type": "code",
   "execution_count": null,
   "id": "32f03a00",
   "metadata": {},
   "outputs": [],
   "source": [
    "import matplotlib.pyplot as plt\n",
    " \n",
    "fig = plt.figure(figsize = (16,9))\n",
    "for i in range(10):\n",
    "    ax = fig.add_subplot(1,10,i+1,xticks=[],yticks=[])\n",
    "    ax.imshow((X[i].astype(np.uint8)))\n",
    "    plt.title(folders[y[i]])"
   ]
  },
  {
   "cell_type": "code",
   "execution_count": null,
   "id": "fcd750a1",
   "metadata": {},
   "outputs": [],
   "source": [
    "X = X.astype('float32')/255\n",
    "no_of_classes = len(np.unique(y))\n",
    "no_of_classes"
   ]
  },
  {
   "cell_type": "markdown",
   "id": "468bf465",
   "metadata": {},
   "source": [
    "# converts a class vector (integers) to binary class matrix"
   ]
  },
  {
   "cell_type": "code",
   "execution_count": null,
   "id": "0b7d7639",
   "metadata": {},
   "outputs": [],
   "source": [
    "from keras.utils import np_utils\n",
    "y = np.array(np_utils.to_categorical(y,no_of_classes))\n",
    "y[0]"
   ]
  },
  {
   "cell_type": "code",
   "execution_count": null,
   "id": "d0b01ea0",
   "metadata": {},
   "outputs": [],
   "source": [
    " #80% train, 10% validation, and 10% test.\n",
    "from sklearn.model_selection import train_test_split\n",
    "X_train, X_test, y_train, y_test = train_test_split(X,y,test_size=0.3,train_size=0.7,shuffle=True)\n",
    "\n",
    "X_test, X_valid, y_test, y_valid = train_test_split(X_test,y_test, test_size = 0.15)"
   ]
  },
  {
   "cell_type": "code",
   "execution_count": null,
   "id": "50294382",
   "metadata": {},
   "outputs": [],
   "source": [
    "print('The train Data Shape ', X_train.shape[1:])"
   ]
  },
  {
   "cell_type": "markdown",
   "id": "d39f192c",
   "metadata": {},
   "source": [
    "# Model"
   ]
  },
  {
   "cell_type": "code",
   "execution_count": null,
   "id": "facd8a61",
   "metadata": {},
   "outputs": [],
   "source": [
    "base_model =tf.keras.applications.ResNet50V2(weights='imagenet', include_top=False,input_shape=(128,128,3))"
   ]
  },
  {
   "cell_type": "code",
   "execution_count": null,
   "id": "a16aca1c",
   "metadata": {},
   "outputs": [],
   "source": [
    "base_model.summary()"
   ]
  },
  {
   "cell_type": "code",
   "execution_count": null,
   "id": "199a3c6a",
   "metadata": {},
   "outputs": [],
   "source": [
    "base_model.trainable = False"
   ]
  },
  {
   "cell_type": "markdown",
   "id": "18bf3265",
   "metadata": {},
   "source": [
    "# Add head"
   ]
  },
  {
   "cell_type": "code",
   "execution_count": null,
   "id": "2842da46",
   "metadata": {},
   "outputs": [],
   "source": [
    "average_pooling_layer = tf.keras.layers.GlobalAveragePooling2D()(base_model.output)\n",
    "prediction_layer = tf.keras.layers.Dense(units=10,activation='softmax')(average_pooling_layer)"
   ]
  },
  {
   "cell_type": "code",
   "execution_count": null,
   "id": "25809568",
   "metadata": {},
   "outputs": [],
   "source": [
    "model = tf.keras.models.Model(inputs=base_model.input, outputs=prediction_layer)"
   ]
  },
  {
   "cell_type": "code",
   "execution_count": null,
   "id": "9be2d801",
   "metadata": {},
   "outputs": [],
   "source": [
    "model.summary()"
   ]
  },
  {
   "cell_type": "markdown",
   "id": "d66eb798",
   "metadata": {},
   "source": [
    "# train model"
   ]
  },
  {
   "cell_type": "code",
   "execution_count": null,
   "id": "b0f8bf1e",
   "metadata": {},
   "outputs": [],
   "source": [
    "model.compile(optimizer=tf.keras.optimizers.RMSprop(lr=0.001), loss=\"categorical_crossentropy\",metrics=[\"accuracy\"])"
   ]
  },
  {
   "cell_type": "code",
   "execution_count": null,
   "id": "65f249bb",
   "metadata": {},
   "outputs": [],
   "source": [
    "history = model.fit(X_train,y_train,epochs=10,validation_data=(X_valid,y_valid),batch_size=128)"
   ]
  },
  {
   "cell_type": "code",
   "execution_count": null,
   "id": "72ca6761",
   "metadata": {},
   "outputs": [],
   "source": [
    "(eval_loss, eval_accuracy) = model.evaluate(X_test, y_test, batch_size= 128, verbose=2)\n",
    "print(\"Accuracy: {:.2f}%\".format(eval_accuracy * 100))  \n",
    "print(\"Loss: {}\".format(eval_loss))"
   ]
  },
  {
   "cell_type": "markdown",
   "id": "25fc0941",
   "metadata": {},
   "source": [
    "# Acuuracy and Loss graphs"
   ]
  },
  {
   "cell_type": "code",
   "execution_count": null,
   "id": "c0a53e3d",
   "metadata": {},
   "outputs": [],
   "source": [
    "import matplotlib.pyplot as plt \n",
    "def plot(history):\n",
    "    plt.figure(1)\n",
    " \n",
    "    plt.subplot(211)  \n",
    "    plt.plot(history.history['accuracy'])  \n",
    "    plt.plot(history.history['val_accuracy'])  \n",
    "    plt.title('accuracy vs val_accuracy')  \n",
    "    plt.ylabel('accuracy')  \n",
    "    plt.xlabel('epoch')  \n",
    "    plt.legend(['Train', 'Validation'], loc='lower right')  \n",
    " \n",
    "    plt.subplot(212)  \n",
    "    plt.plot(history.history['loss'])  \n",
    "    plt.plot(history.history['val_loss'])  \n",
    "    plt.title('loss vs val_loss')  \n",
    "    plt.ylabel('loss')  \n",
    "    plt.xlabel('epoch')  \n",
    "    plt.legend(['Train', 'Validation'], loc='upper right')\n",
    "    plt.tight_layout()\n",
    "    plt.show()\n",
    " \n",
    "plot(history)"
   ]
  },
  {
   "cell_type": "markdown",
   "id": "9ff5353c",
   "metadata": {},
   "source": [
    "# Prediction"
   ]
  },
  {
   "cell_type": "code",
   "execution_count": null,
   "id": "56d0faf5",
   "metadata": {},
   "outputs": [],
   "source": [
    "def visualize_pred(y_pred):\n",
    "    fig = plt.figure(figsize=(20, 9))\n",
    "    for i, idx in enumerate(np.random.choice(X_test.shape[0], size=20, replace=False)):\n",
    "        ax = fig.add_subplot(4, 5, i + 1, xticks=[], yticks=[])\n",
    "        ax.imshow(np.squeeze(X_test[idx]))\n",
    "        pred_idx = np.argmax(y_pred[idx])\n",
    "        true_idx = np.argmax(y_test[idx])\n",
    "        ax.set_title(\"{} ({})\".format(labels[pred_idx], labels[true_idx]),\n",
    "                     color=(\"green\" if pred_idx == true_idx else \"red\"))\n",
    "\n",
    "visualize_pred(model.predict(X_test))"
   ]
  },
  {
   "cell_type": "markdown",
   "id": "f13e7ce2",
   "metadata": {},
   "source": [
    "# Confusion matrix"
   ]
  },
  {
   "cell_type": "code",
   "execution_count": null,
   "id": "871ee6d6",
   "metadata": {},
   "outputs": [],
   "source": [
    "import seaborn as sns\n",
    "from sklearn.metrics import confusion_matrix\n",
    "\n",
    "Y_pred = model.predict(X_test)\n",
    "Y_pred_classes = np.argmax(Y_pred,axis = 1)\n",
    "Y_true = np.argmax(y_test,axis = 1)\n",
    "confusion_mtx = confusion_matrix(Y_true,Y_pred_classes)\n",
    "f,ax = plt.subplots(figsize = (8,8))\n",
    "sns.heatmap(confusion_mtx,annot=True,linewidths = 0.01,cmap=\"Greens\",\n",
    "            linecolor = \"gray\",fmt = \".2f\",ax=ax\n",
    "            )\n",
    "plt.xlabel(\"predicted label\")\n",
    "plt.ylabel(\"True Label\")\n",
    "plt.title(\"confusion matrix\")\n",
    "plt.show()"
   ]
  },
  {
   "cell_type": "code",
   "execution_count": null,
   "id": "24f96c67",
   "metadata": {},
   "outputs": [],
   "source": [
    "from sklearn.metrics import accuracy_score, classification_report, confusion_matrix\n",
    "Y_pred = model.predict(X_test)\n",
    "Y_pred_classes = np.argmax(Y_pred,axis = 1)\n",
    "Y_true = np.argmax(y_test,axis = 1)\n",
    "print(\"*******************Confusion matrix*******************\")\n",
    "print(confusion_matrix(Y_true,Y_pred_classes))\n",
    "print(\"\\n*******************Classification report*******************\")\n",
    "print(classification_report(Y_true,Y_pred_classes))"
   ]
  },
  {
   "cell_type": "code",
   "execution_count": null,
   "id": "a6a20c0b",
   "metadata": {},
   "outputs": [],
   "source": []
  }
 ],
 "metadata": {
  "kernelspec": {
   "display_name": "Python 3 (ipykernel)",
   "language": "python",
   "name": "python3"
  },
  "language_info": {
   "codemirror_mode": {
    "name": "ipython",
    "version": 3
   },
   "file_extension": ".py",
   "mimetype": "text/x-python",
   "name": "python",
   "nbconvert_exporter": "python",
   "pygments_lexer": "ipython3",
   "version": "3.9.7"
  }
 },
 "nbformat": 4,
 "nbformat_minor": 5
}
